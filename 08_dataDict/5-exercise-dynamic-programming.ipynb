{
  "cells": [
    {
      "cell_type": "markdown",
      "metadata": {},
      "source": [
        "# Calculating values\n",
        "\n",
        "In this scenario, you will calculate both the total number of moons in the solar system and the average number of moons a planet has. You will do this by using a dictionary object.\n",
        "\n",
        "This exercise is broken into a series of steps. For each step you will be presented with the goal for the step, followed by an empty cell. Enter your Python into the cell and run it. The solution for each step will follow each cell.\n",
        "\n",
        "Start by creating a variable named `planet_moons` as a dictionary with the following key/values:\n",
        "\n",
        "```\n",
        "mercury: 0,\n",
        "venus: 0,\n",
        "earth: 1,\n",
        "mars: 2,\n",
        "jupiter: 79,\n",
        "saturn: 82,\n",
        "uranus: 27,\n",
        "neptune: 14,\n",
        "pluto: 5,\n",
        "haumea: 2,\n",
        "makemake: 1,\n",
        "eris: 1\n",
        "```"
      ]
    },
    {
      "cell_type": "code",
      "execution_count": 18,
      "metadata": {},
      "outputs": [
        {
          "name": "stdout",
          "output_type": "stream",
          "text": [
            "Mercury: 0\n",
            "Venus: 0\n",
            "Earth: 1\n",
            "Mars: 2\n",
            "Jupiter: 79\n",
            "Saturn: 82\n",
            "Uranus: 27\n",
            "Neptune: 14\n",
            "Pluto: 5\n",
            "Haumea: 2\n",
            "Makemake: 1\n",
            "Eris: 1\n",
            "{'Mercury': 0, 'Venus': 0, 'Earth': 1, 'Mars': 2, 'Jupiter': 79, 'Saturn': 82, 'Uranus': 27, 'Neptune': 14, 'Pluto': 5, 'Haumea': 2, 'Makemake': 1, 'Eris': 1}\n"
          ]
        }
      ],
      "source": [
        "# Enter the code below\n",
        "planet_moons = {\n",
        "    'Mercury' : 0,\n",
        "    'Venus' : 0,\n",
        "    'Earth' : 1,\n",
        "    'Mars' : 2,\n",
        "    'Jupiter' : 79,\n",
        "    'Saturn' : 82,\n",
        "    'Uranus' : 27,\n",
        "    'Neptune' : 14,\n",
        "    'Pluto' : 5,\n",
        "    'Haumea' : 2,\n",
        "    'Makemake' : 1,\n",
        "    'Eris' : 1\n",
        "}\n",
        "\n",
        "for key in planet_moons:\n",
        "    print(f'{key}: {planet_moons[key]}')\n",
        "\n",
        "#for key, value in planet_moons:\n",
        "#    print(f'{key}: {value}')"
      ]
    },
    {
      "cell_type": "markdown",
      "metadata": {},
      "source": [
        "Your code should look like the following:\n",
        "\n",
        "```python\n",
        "planet_moons = {\n",
        "    'mercury': 0,\n",
        "    'venus': 0,\n",
        "    'earth': 1,\n",
        "    'mars': 2,\n",
        "    'jupiter': 79,\n",
        "    'saturn': 82,\n",
        "    'uranus': 27,\n",
        "    'neptune': 14,\n",
        "    'pluto': 5,\n",
        "    'haumea': 2,\n",
        "    'makemake': 1,\n",
        "    'eris': 1\n",
        "}\n",
        "```"
      ]
    },
    {
      "cell_type": "markdown",
      "metadata": {},
      "source": [
        "## Obtain a list of moons and number of planets\n",
        "\n",
        "Python dictionaries allow you to retrieve all the values and keys by using the `values` and `keys` methods, respectively. Each method returns a list containing the data, which can then be used like a regular Python list. You can determine the number of items by using `len`, and iterate through it by using `for` loops. In the dictionary you created, the planet names are keys and the number of moons are the values.\n",
        "\n",
        "Start by retrieving a list with the number of moons, and store this in a variable named `moons`. Then obtain the total number of planets and store that value in a variable named `total_planets`."
      ]
    },
    {
      "cell_type": "code",
      "execution_count": 4,
      "metadata": {},
      "outputs": [
        {
          "name": "stdout",
          "output_type": "stream",
          "text": [
            "Moons dict_values([0, 0, 1, 2, 79, 82, 27, 14, 5, 2, 1, 1])\n",
            "Total_planets 12\n"
          ]
        }
      ],
      "source": [
        "# Enter code below\n",
        "moons = planet_moons.values()\n",
        "total_planets = len(planet_moons.keys())\n",
        "\n",
        "print(f'Moons {moons}')\n",
        "print(f'Total_planets {total_planets}')"
      ]
    },
    {
      "cell_type": "markdown",
      "metadata": {},
      "source": [
        "Your code should look like the following:\n",
        "\n",
        "```python\n",
        "moons = planet_moons.values()\n",
        "total_planets = len(planet_moons.keys())\n",
        "```"
      ]
    },
    {
      "cell_type": "markdown",
      "metadata": {},
      "source": [
        "## Determine the average number of moons\n",
        "\n",
        "You will finish this exercise by determining the average number of moons. Start by creating a variable named `total_moons`; this will be your counter for the total number of moons. Then add a `for` loop to loop through the list of `moons`, adding each value to `total_moons`. Finally, calculate the average by dividing `total_moons` by `total_planets` and displaying the value."
      ]
    },
    {
      "cell_type": "code",
      "execution_count": null,
      "metadata": {},
      "outputs": [],
      "source": [
        "# Enter code below"
      ]
    },
    {
      "cell_type": "markdown",
      "metadata": {},
      "source": [
        "Your code should look like the following:\n",
        "\n",
        "```python\n",
        "total_moons = 0\n",
        "for moon in moons:\n",
        "    total_moons = total_moons + moon\n",
        "\n",
        "average = total_moons / total_planets\n",
        "\n",
        "print(f'Each planet as an average of {average} moons')\n",
        "````\n",
        "\n",
        "## Desired output\n",
        "\n",
        "When you run the notebook you should see the following result:\n",
        "\n",
        "```\n",
        "Each planet as an average of 17.833333333333332 moons\n",
        "```"
      ]
    }
  ],
  "metadata": {
    "interpreter": {
      "hash": "916dbcbb3f70747c44a77c7bcd40155683ae19c65e1c03b4aa3499c5328201f1"
    },
    "kernelspec": {
      "display_name": "Python 3.8.10 64-bit",
      "name": "conda-env-py38_default-py"
    },
    "language_info": {
      "codemirror_mode": {
        "name": "ipython",
        "version": 3
      },
      "file_extension": ".py",
      "mimetype": "text/x-python",
      "name": "python",
      "nbconvert_exporter": "python",
      "pygments_lexer": "ipython3",
      "version": "3.8.10"
    },
    "nteract": {
      "version": "nteract-front-end@1.0.0"
    },
    "orig_nbformat": 4
  },
  "nbformat": 4,
  "nbformat_minor": 2
}
