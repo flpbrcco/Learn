{
  "cells": [
    {
      "cell_type": "markdown",
      "metadata": {},
      "source": [
        "# Use slices to retrieve portions of a list\n",
        "\n",
        "You might need to work different sections of a list. In this notebook, you will create a project to display planets closer to and farther away from the sun than a planet that the user enters.\n",
        "\n",
        "This exercise is broken into a series of steps. For each step you will be presented with the goal for the step, followed by an empty cell. Enter your Python into the cell and run it. The solution for each step will follow each cell.\n",
        "\n",
        "## Create the list of planets\n",
        "\n",
        "First, create a variable named `planets`. Add the eight planets (without Pluto) to the list. The planets are:\n",
        "\n",
        "- Mercury\n",
        "- Venus\n",
        "- Earth\n",
        "- Mars\n",
        "- Jupiter\n",
        "- Saturn\n",
        "- Uranus\n",
        "- Neptune"
      ]
    },
    {
      "cell_type": "code",
      "execution_count": 17,
      "metadata": {},
      "outputs": [],
      "source": [
        "# Enter your code below\n",
        "planets = [\"Mercúrio\", 'Vênus', 'Terra','Marte','Júpiter','Saturno','Urano','Netuno']"
      ]
    },
    {
      "cell_type": "markdown",
      "metadata": {},
      "source": [
        "Your code should look like this:\n",
        "\n",
        "```python\n",
        "planets = [\"Mercury\", \"Venus\", \"Earth\", \"Mars\", \"Jupiter\", \"Saturn\", \"Neptune\"]\n",
        "```"
      ]
    },
    {
      "cell_type": "markdown",
      "metadata": {},
      "source": [
        "## Prompt the user for the reference planet\n",
        "\n",
        "Next you will add the code to prompt the user for the name of a planet. You will do this by using `input`. Because strings are case sensitive in Python, ask the user to use a capital letter to start the name of the planet."
      ]
    },
    {
      "cell_type": "code",
      "execution_count": 18,
      "metadata": {},
      "outputs": [],
      "source": [
        "# Enter code below\n",
        "planet_input = input(\"Entre com o nome do planeta (Favor usar a primeira letra como maiúscula) \")"
      ]
    },
    {
      "cell_type": "markdown",
      "metadata": {},
      "source": [
        "Your code should look like this:\n",
        "\n",
        "```python\n",
        "user_planet = input(\"Please enter the name of the planet (with a capital letter to start)\")\n",
        "```"
      ]
    },
    {
      "cell_type": "markdown",
      "metadata": {},
      "source": [
        "## Find the location of the selected planet\n",
        "\n",
        "Now it's time to determine which planets are closer than the one that the user entered. To do this, you need to find where he planet is in the list. You can use the `index` method to perform this operation. Add the code to find the index of the planet, and store it in a variable named `planet_index`."
      ]
    },
    {
      "cell_type": "code",
      "execution_count": 19,
      "metadata": {},
      "outputs": [],
      "source": [
        "# Enter code below\n",
        "planet_index = planets.index(planet_input)"
      ]
    },
    {
      "cell_type": "markdown",
      "metadata": {},
      "source": [
        "Your code should look like this:\n",
        "\n",
        "```python\n",
        "planet_index = planets.index(user_planet)\n",
        "```"
      ]
    },
    {
      "cell_type": "markdown",
      "metadata": {},
      "source": [
        "## Display planets closer to the sun\n",
        "\n",
        "With the index determined, you can now add the code to display planets closer to the sun than the one selected. Use the slicing abilities of a list to display all planets up to the one selected."
      ]
    },
    {
      "cell_type": "code",
      "execution_count": 20,
      "metadata": {},
      "outputs": [
        {
          "name": "stdout",
          "output_type": "stream",
          "text": [
            "Aqui estão os planetas entre o Sol e Júpiter\n",
            "['Mercúrio', 'Vênus', 'Terra', 'Marte']\n"
          ]
        }
      ],
      "source": [
        "# Enter code below\n",
        "print('Aqui estão os planetas entre o Sol e ' + planet_input)\n",
        "print(planets[0:planet_index])\n"
      ]
    },
    {
      "cell_type": "markdown",
      "metadata": {},
      "source": [
        "Your code should look like this:\n",
        "\n",
        "```python\n",
        "print(\"Here are the planets closer than \" + user_planet)\n",
        "print(planets[0:planet_index])\n",
        "```"
      ]
    },
    {
      "cell_type": "markdown",
      "metadata": {},
      "source": [
        "## Display planets further \n",
        "\n",
        "You can use the same index to display planets farther from the sun. However, remember that the starting index *is included* when you're using a slice. As a result, you'll have to add 1 to the value. Add the code to display the planets farther from the sun."
      ]
    },
    {
      "cell_type": "code",
      "execution_count": 22,
      "metadata": {},
      "outputs": [
        {
          "name": "stdout",
          "output_type": "stream",
          "text": [
            "E aqui estão os planetas além de Júpiter\n",
            "['Saturno', 'Urano', 'Netuno']\n"
          ]
        }
      ],
      "source": [
        "# Enter code below\n",
        "print(\"E aqui estão os planetas além de \" + planet_input)\n",
        "print(planets[planet_index + 1 : ])"
      ]
    },
    {
      "cell_type": "markdown",
      "metadata": {},
      "source": [
        "Your code should look like this:\n",
        "\n",
        "```python\n",
        "print(\"Here are the planets further than \" + user_planet)\n",
        "print(planets[planet_index + 1:])\n",
        "```"
      ]
    }
  ],
  "metadata": {
    "kernelspec": {
      "display_name": "Python 3.10.5 64-bit",
      "language": "python",
      "name": "python3"
    },
    "language_info": {
      "codemirror_mode": {
        "name": "ipython",
        "version": 3
      },
      "file_extension": ".py",
      "mimetype": "text/x-python",
      "name": "python",
      "nbconvert_exporter": "python",
      "pygments_lexer": "ipython3",
      "version": "3.10.5"
    },
    "nteract": {
      "version": "nteract-front-end@1.0.0"
    },
    "orig_nbformat": 4,
    "vscode": {
      "interpreter": {
        "hash": "369f2c481f4da34e4445cda3fffd2e751bd1c4d706f27375911949ba6bb62e1c"
      }
    }
  },
  "nbformat": 4,
  "nbformat_minor": 2
}
