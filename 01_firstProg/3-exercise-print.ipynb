{
  "cells": [
    {
      "cell_type": "markdown",
      "metadata": {},
      "source": [
        "# Your first program\n",
        "\n",
        "You will use a Jupyter notebook to create your first program. Your senior officer wants you to create code to perform a couple of utilities. You will start by displaying today's date. Then you will add code to convert parsecs to lightyears.\n",
        "\n",
        "This exercise is broken into a series of steps. For each step you will be presented with the goal for the step, followed by an empty cell. Enter your Python into the cell and run it. The solution for each step will follow each cell."
      ]
    },
    {
      "cell_type": "markdown",
      "metadata": {},
      "source": [
        "## Display today's date\n",
        "\n",
        "In the cell below, add the code to display today's date. Remember you can use the `date` object from the `datetime` library to access calendar information."
      ]
    },
    {
      "cell_type": "code",
      "execution_count": 12,
      "metadata": {},
      "outputs": [
        {
          "name": "stdout",
          "output_type": "stream",
          "text": [
            "2022-07-02\n"
          ]
        }
      ],
      "source": [
        "# Add the code below\n",
        "from datetime import date\n",
        "print(date.today())"
      ]
    },
    {
      "cell_type": "markdown",
      "metadata": {},
      "source": [
        "Your code should look like the following:\n",
        "\n",
        "```python\n",
        "from datetime import date\n",
        "\n",
        "print(date.today())\n",
        "```"
      ]
    },
    {
      "cell_type": "markdown",
      "metadata": {},
      "source": [
        "\n",
        "## Build a unit converter\n",
        "\n",
        "Now it's time to turn your attention to the second utility, converting parsecs to lightyears. One parsec is 3.26 lightyears, so you will multiply parsecs by that value to determine lightyears.\n",
        "\n",
        "Create a variable named `parsecs` and set it to `11`. Then add the code to perform the appropriate calculation and store the result in a variable named `lightyears`. Finally print the result on the screen with so it displays a message which resembles the following:\n",
        "\n",
        "**11 parsecs is ___ lightyears**\n",
        "\n",
        "> Remember to you can use `str` to convert numbers to strings"
      ]
    },
    {
      "cell_type": "code",
      "execution_count": 14,
      "metadata": {},
      "outputs": [
        {
          "name": "stdout",
          "output_type": "stream",
          "text": [
            "11 parsecs is 35.86 lightyears.\n"
          ]
        }
      ],
      "source": [
        "# Enter code below\n",
        "parsecs = 11\n",
        "lightyears = parsecs * 3.26\n",
        "print(str(parsecs) + \" parsecs is \" + str(lightyears) + \" lightyears.\")"
      ]
    },
    {
      "cell_type": "markdown",
      "metadata": {},
      "source": [
        "Your code should resemble the following:\n",
        "\n",
        "```python\n",
        "parsecs = 11\n",
        "lightyears = parsecs * 3.26\n",
        "print(str(parsecs) + \" parsecs is \" + str(lightyears) + \" lightyears\")\n",
        "```\n",
        "\n",
        "## Desired output\n",
        "\n",
        "When you run the notebook you should see the following result:\n",
        "\n",
        "```\n",
        "11 parsecs is 35.86 lightyears\n",
        "```"
      ]
    }
  ],
  "metadata": {
    "kernel_info": {
      "name": "conda-env-py38_default-py"
    },
    "kernelspec": {
      "display_name": "Python 3.10.5 64-bit",
      "language": "python",
      "name": "python3"
    },
    "language_info": {
      "codemirror_mode": {
        "name": "ipython",
        "version": 3
      },
      "file_extension": ".py",
      "mimetype": "text/x-python",
      "name": "python",
      "nbconvert_exporter": "python",
      "pygments_lexer": "ipython3",
      "version": "3.10.5"
    },
    "nteract": {
      "version": "nteract-front-end@1.0.0"
    },
    "orig_nbformat": 4,
    "vscode": {
      "interpreter": {
        "hash": "369f2c481f4da34e4445cda3fffd2e751bd1c4d706f27375911949ba6bb62e1c"
      }
    }
  },
  "nbformat": 4,
  "nbformat_minor": 2
}
