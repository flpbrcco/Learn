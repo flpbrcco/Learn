{
  "cells": [
    {
      "cell_type": "markdown",
      "metadata": {},
      "source": [
        "# Creating reusable applications\n",
        "\n",
        "Having a program with hard-coded values limits its flexibility. Your first officer likes the program you built to convert parsecs to lightyears, but wants the ability to specify a value for parsecs. She wants you to create a program which can accept user input.\n",
        "\n",
        "This exercise is broken into a series of steps. For each step you will be presented with the goal for the step, followed by an empty cell. Enter your Python into the cell and run it. The solution for each step will follow each cell.\n",
        "\n",
        "## Accepting user input\n",
        "\n",
        "In the prior exercise you created code to convert parsecs to lightyears and display the results, which looked like the following:\n",
        "\n",
        "```python\n",
        "parsecs = 11\n",
        "lightyears = parsecs * 3.26\n",
        "print(str(parsecs) + \" parsecs is \" + str(lightyears) + \" lightyears\")\n",
        "```\n",
        "\n",
        "Using this code as a foundation, update how `parsecs` is set. Start by creating a variable named `parsecs_input` and setting it to the result of `input`, which should prompt the user to enter the number of parsecs. Then convert `parsecs_input` to an integer by using `int` and storing it in `parsecs`. Finish by performing the calculation and displaying the result."
      ]
    },
    {
      "cell_type": "code",
      "execution_count": 1,
      "metadata": {},
      "outputs": [
        {
          "ename": "ValueError",
          "evalue": "invalid literal for int() with base 10: ''",
          "output_type": "error",
          "traceback": [
            "\u001b[1;31m---------------------------------------------------------------------------\u001b[0m",
            "\u001b[1;31mValueError\u001b[0m                                Traceback (most recent call last)",
            "\u001b[1;32md:\\proj\\py\\Learn\\01_firstProg\\5-exercise-input.ipynb Cell 2\u001b[0m in \u001b[0;36m<cell line: 3>\u001b[1;34m()\u001b[0m\n\u001b[0;32m      <a href='vscode-notebook-cell:/d%3A/proj/py/Learn/01_firstProg/5-exercise-input.ipynb#ch0000001?line=0'>1</a>\u001b[0m \u001b[39m# Enter code below\u001b[39;00m\n\u001b[0;32m      <a href='vscode-notebook-cell:/d%3A/proj/py/Learn/01_firstProg/5-exercise-input.ipynb#ch0000001?line=1'>2</a>\u001b[0m parsecs_input \u001b[39m=\u001b[39m \u001b[39minput\u001b[39m(\u001b[39m\"\u001b[39m\u001b[39mInput parsecs value: \u001b[39m\u001b[39m\"\u001b[39m)\n\u001b[1;32m----> <a href='vscode-notebook-cell:/d%3A/proj/py/Learn/01_firstProg/5-exercise-input.ipynb#ch0000001?line=2'>3</a>\u001b[0m parsecs \u001b[39m=\u001b[39m \u001b[39mint\u001b[39;49m(parsecs_input)\n\u001b[0;32m      <a href='vscode-notebook-cell:/d%3A/proj/py/Learn/01_firstProg/5-exercise-input.ipynb#ch0000001?line=3'>4</a>\u001b[0m lightyears \u001b[39m=\u001b[39m \u001b[39m3.26156\u001b[39m \u001b[39m*\u001b[39m parsecs\n\u001b[0;32m      <a href='vscode-notebook-cell:/d%3A/proj/py/Learn/01_firstProg/5-exercise-input.ipynb#ch0000001?line=5'>6</a>\u001b[0m \u001b[39mprint\u001b[39m(\u001b[39mstr\u001b[39m(parsecs_input) \u001b[39m+\u001b[39m \u001b[39m\"\u001b[39m\u001b[39m parsecs is \u001b[39m\u001b[39m\"\u001b[39m \u001b[39m+\u001b[39m \u001b[39mstr\u001b[39m(lightyears) \u001b[39m+\u001b[39m \u001b[39m\"\u001b[39m\u001b[39m lightyears.\u001b[39m\u001b[39m\"\u001b[39m)\n",
            "\u001b[1;31mValueError\u001b[0m: invalid literal for int() with base 10: ''"
          ]
        }
      ],
      "source": [
        "# Enter code below\n",
        "parsecs_input = input(\"Input parsecs value: \")\n",
        "parsecs = int(parsecs_input)\n",
        "lightyears = 3.26156 * parsecs\n",
        "\n",
        "print(str(parsecs_input) + \" parsecs is \" + str(lightyears) + \" lightyears.\")"
      ]
    },
    {
      "cell_type": "markdown",
      "metadata": {},
      "source": [
        "Your code should look something like the following:\n",
        "\n",
        "```python\n",
        "parsecs_input = input(\"Input number of parsecs:\")\n",
        "parsecs = int(parsecs_input)\n",
        "lightyears = 3.26156 * parsecs\n",
        "\n",
        "print(parsecs_input + \" parsecs is \" + str(lightyears) + \" lightyears\")\n",
        "```\n",
        "\n"
      ]
    }
  ],
  "metadata": {
    "kernel_info": {
      "name": "conda-env-py38_default-py"
    },
    "kernelspec": {
      "display_name": "Python 3.10.5 64-bit",
      "language": "python",
      "name": "python3"
    },
    "language_info": {
      "codemirror_mode": {
        "name": "ipython",
        "version": 3
      },
      "file_extension": ".py",
      "mimetype": "text/x-python",
      "name": "python",
      "nbconvert_exporter": "python",
      "pygments_lexer": "ipython3",
      "version": "3.10.5"
    },
    "nteract": {
      "version": "nteract-front-end@1.0.0"
    },
    "orig_nbformat": 4,
    "vscode": {
      "interpreter": {
        "hash": "369f2c481f4da34e4445cda3fffd2e751bd1c4d706f27375911949ba6bb62e1c"
      }
    }
  },
  "nbformat": 4,
  "nbformat_minor": 2
}
